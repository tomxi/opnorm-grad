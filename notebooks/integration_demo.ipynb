{
 "cells": [
  {
   "cell_type": "code",
   "execution_count": 1,
   "metadata": {},
   "outputs": [],
   "source": [
    "import opnorm_grad as og\n",
    "import torch\n",
    "import torch.nn as nn\n",
    "\n",
    "class TestModel(nn.Module):\n",
    "    def __init__(self, opnorm=False):\n",
    "        super(TestModel, self).__init__()\n",
    "        if opnorm:\n",
    "            self.conv1 = og.OpNormConv1d(in_channels=1, out_channels=16, kernel_size=3) \n",
    "            self.conv2 = og.OpNormConv1d(in_channels=16, out_channels=32, kernel_size=3)\n",
    "        else:\n",
    "            self.conv1 = nn.Conv1d(in_channels=1, out_channels=16, kernel_size=3)\n",
    "            self.conv2 = nn.Conv1d(in_channels=16, out_channels=32, kernel_size=3)\n",
    "        \n",
    "        self.softmax = nn.Softmax(dim=-1)\n",
    "        \n",
    "    def forward(self, x):\n",
    "        x = self.conv1(x)\n",
    "        x = self.conv2(x)\n",
    "        # Apply softmax along the sequence dimension\n",
    "        x = self.softmax(x)\n",
    "        return x"
   ]
  },
  {
   "cell_type": "code",
   "execution_count": 2,
   "metadata": {},
   "outputs": [],
   "source": [
    "# Function to compute gradients and return their norms\n",
    "def get_gradient_norms(model, input_data):\n",
    "    model.zero_grad()\n",
    "    output = model(input_data)\n",
    "    loss = output.sum()\n",
    "    loss.backward()\n",
    "    \n",
    "    grad_norms = {}\n",
    "    for name, param in model.named_parameters():\n",
    "        if param.grad is not None:\n",
    "            grad_norms[name] = param.grad.norm().item()\n",
    "    return grad_norms\n"
   ]
  },
  {
   "cell_type": "code",
   "execution_count": 3,
   "metadata": {},
   "outputs": [
    {
     "name": "stdout",
     "output_type": "stream",
     "text": [
      "=== Short Input (length 10) ===\n",
      "OpNorm conv1.weight grad norm: 0.0000\n",
      "Baseline conv1.weight grad norm: 0.0000\n",
      "\n",
      "=== Long Input (length 100) ===\n",
      "OpNorm conv1.weight grad norm: 0.0000\n",
      "Baseline conv1.weight grad norm: 0.0000\n",
      "\n",
      "Baseline ratio (long/short): 0.79\n",
      "OpNorm ratio (long/short): 0.06\n",
      "\n",
      "=== Key Insight ===\n",
      "OpNorm keeps gradient magnitudes more consistent across different sequence lengths,\n",
      "which helps stabilize training when processing variable-length inputs.\n"
     ]
    }
   ],
   "source": [
    "\n",
    "# Create sample data with different sequence lengths to demonstrate the effect\n",
    "short_input = torch.randn(1, 1, 10)  # Short sequence\n",
    "long_input = torch.randn(1, 1, 100)   # Long sequence\n",
    "\n",
    "# Initialize models with same weights for fair comparison\n",
    "torch.manual_seed(42)\n",
    "opnorm_model = TestModel(opnorm=True)\n",
    "torch.manual_seed(42)\n",
    "baseline_model = TestModel(opnorm=False)\n",
    "\n",
    "\n",
    "\n",
    "# Test with short input\n",
    "print(\"=== Short Input (length 10) ===\")\n",
    "short_opnorm_grads = get_gradient_norms(opnorm_model, short_input)\n",
    "short_baseline_grads = get_gradient_norms(baseline_model, short_input)\n",
    "\n",
    "print(f\"OpNorm conv1.weight grad norm: {short_opnorm_grads['conv1.weight']:.4f}\")\n",
    "print(f\"Baseline conv1.weight grad norm: {short_baseline_grads['conv1.weight']:.4f}\")\n",
    "\n",
    "# Test with long input\n",
    "print(\"\\n=== Long Input (length 100) ===\")\n",
    "long_opnorm_grads = get_gradient_norms(opnorm_model, long_input)\n",
    "long_baseline_grads = get_gradient_norms(baseline_model, long_input)\n",
    "\n",
    "print(f\"OpNorm conv1.weight grad norm: {long_opnorm_grads['conv1.weight']:.4f}\")\n",
    "print(f\"Baseline conv1.weight grad norm: {long_baseline_grads['conv1.weight']:.4f}\")\n",
    "\n",
    "# Show the ratio difference - this demonstrates OpNorm's effectiveness\n",
    "print(f\"\\nBaseline ratio (long/short): {long_baseline_grads['conv1.weight']/short_baseline_grads['conv1.weight']:.2f}\")\n",
    "print(f\"OpNorm ratio (long/short): {long_opnorm_grads['conv1.weight']/short_opnorm_grads['conv1.weight']:.2f}\")\n",
    "\n",
    "print(\"\\n=== Key Insight ===\")\n",
    "print(\"OpNorm keeps gradient magnitudes more consistent across different sequence lengths,\")\n",
    "print(\"which helps stabilize training when processing variable-length inputs.\")\n"
   ]
  },
  {
   "cell_type": "code",
   "execution_count": 4,
   "metadata": {},
   "outputs": [
    {
     "name": "stdout",
     "output_type": "stream",
     "text": [
      "=== Parameter Names Comparison ===\n",
      "\n",
      "OpNorm Model Parameters:\n",
      "  conv1.weight: torch.Size([16, 1, 3])\n",
      "  conv1.bias: torch.Size([16])\n",
      "  conv2.weight: torch.Size([32, 16, 3])\n",
      "  conv2.bias: torch.Size([32])\n",
      "\n",
      "Baseline Model Parameters:\n",
      "  conv1.weight: torch.Size([16, 1, 3])\n",
      "  conv1.bias: torch.Size([16])\n",
      "  conv2.weight: torch.Size([32, 16, 3])\n",
      "  conv2.bias: torch.Size([32])\n",
      "\n",
      "=== Key Benefit ===\n",
      "With inheritance-based approach, parameter names are clean and identical\n",
      "between OpNorm and baseline models - no nested 'layer.weight' naming!\n"
     ]
    }
   ],
   "source": [
    "# Demonstrate the clean parameter naming with inheritance-based approach\n",
    "print(\"=== Parameter Names Comparison ===\")\n",
    "print(\"\\nOpNorm Model Parameters:\")\n",
    "for name, param in opnorm_model.named_parameters():\n",
    "    print(f\"  {name}: {param.shape}\")\n",
    "\n",
    "print(\"\\nBaseline Model Parameters:\")\n",
    "for name, param in baseline_model.named_parameters():\n",
    "    print(f\"  {name}: {param.shape}\")\n",
    "\n",
    "print(\"\\n=== Key Benefit ===\")\n",
    "print(\"With inheritance-based approach, parameter names are clean and identical\")\n",
    "print(\"between OpNorm and baseline models - no nested 'layer.weight' naming!\")\n"
   ]
  },
  {
   "cell_type": "code",
   "execution_count": 5,
   "metadata": {},
   "outputs": [
    {
     "name": "stdout",
     "output_type": "stream",
     "text": [
      "=== 2D Convolution Demo ===\n",
      "Small Image (32x32):\n",
      "  OpNorm grad norm: 0.2607\n",
      "  Baseline grad norm: 266.9248\n",
      "\n",
      "Large Image (128x128):\n",
      "  OpNorm grad norm: 0.1656\n",
      "  Baseline grad norm: 2713.1899\n",
      "\n",
      "Baseline ratio (large/small): 10.16\n",
      "OpNorm ratio (large/small): 0.64\n",
      "\n",
      "OpNorm2D normalizes by H_out × W_out, keeping gradients consistent across image sizes!\n"
     ]
    }
   ],
   "source": [
    "# Demonstrate OpNormConv2d with different image sizes\n",
    "print(\"=== 2D Convolution Demo ===\")\n",
    "\n",
    "class TestModel2D(nn.Module):\n",
    "    def __init__(self, opnorm=False):\n",
    "        super(TestModel2D, self).__init__()\n",
    "        if opnorm:\n",
    "            self.conv1 = og.OpNormConv2d(in_channels=3, out_channels=16, kernel_size=3, padding=1)\n",
    "        else:\n",
    "            self.conv1 = nn.Conv2d(in_channels=3, out_channels=16, kernel_size=3, padding=1)\n",
    "        \n",
    "    def forward(self, x):\n",
    "        return self.conv1(x)\n",
    "\n",
    "# Create sample data with different image sizes\n",
    "small_image = torch.randn(1, 3, 32, 32)   # Small image (32x32)\n",
    "large_image = torch.randn(1, 3, 128, 128) # Large image (128x128)\n",
    "\n",
    "# Initialize models with same weights\n",
    "torch.manual_seed(42)\n",
    "opnorm_model_2d = TestModel2D(opnorm=True)\n",
    "torch.manual_seed(42)\n",
    "baseline_model_2d = TestModel2D(opnorm=False)\n",
    "\n",
    "# Test with small image\n",
    "print(\"Small Image (32x32):\")\n",
    "small_opnorm_grads = get_gradient_norms(opnorm_model_2d, small_image)\n",
    "small_baseline_grads = get_gradient_norms(baseline_model_2d, small_image)\n",
    "print(f\"  OpNorm grad norm: {small_opnorm_grads['conv1.weight']:.4f}\")\n",
    "print(f\"  Baseline grad norm: {small_baseline_grads['conv1.weight']:.4f}\")\n",
    "\n",
    "# Test with large image\n",
    "print(\"\\nLarge Image (128x128):\")\n",
    "large_opnorm_grads = get_gradient_norms(opnorm_model_2d, large_image)\n",
    "large_baseline_grads = get_gradient_norms(baseline_model_2d, large_image)\n",
    "print(f\"  OpNorm grad norm: {large_opnorm_grads['conv1.weight']:.4f}\")\n",
    "print(f\"  Baseline grad norm: {large_baseline_grads['conv1.weight']:.4f}\")\n",
    "\n",
    "# Show scaling ratios\n",
    "print(f\"\\nBaseline ratio (large/small): {large_baseline_grads['conv1.weight']/small_baseline_grads['conv1.weight']:.2f}\")\n",
    "print(f\"OpNorm ratio (large/small): {large_opnorm_grads['conv1.weight']/small_opnorm_grads['conv1.weight']:.2f}\")\n",
    "\n",
    "print(\"\\nOpNorm2D normalizes by H_out × W_out, keeping gradients consistent across image sizes!\")\n"
   ]
  },
  {
   "cell_type": "code",
   "execution_count": null,
   "metadata": {},
   "outputs": [],
   "source": []
  }
 ],
 "metadata": {
  "kernelspec": {
   "display_name": "opnorm-grad",
   "language": "python",
   "name": "python3"
  },
  "language_info": {
   "codemirror_mode": {
    "name": "ipython",
    "version": 3
   },
   "file_extension": ".py",
   "mimetype": "text/x-python",
   "name": "python",
   "nbconvert_exporter": "python",
   "pygments_lexer": "ipython3",
   "version": "3.11.13"
  }
 },
 "nbformat": 4,
 "nbformat_minor": 2
}
